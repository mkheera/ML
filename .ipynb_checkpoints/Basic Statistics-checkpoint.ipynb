{
 "cells": [
  {
   "cell_type": "code",
   "execution_count": 11,
   "metadata": {},
   "outputs": [
    {
     "name": "stdout",
     "output_type": "stream",
     "text": [
      "3\n",
      "1 4 5\n",
      "Standard Deviation1.7\n"
     ]
    }
   ],
   "source": [
    "#Standard deviation\n",
    "import math;\n",
    "\n",
    "x=int(input())\n",
    "y=list(map(int,input().split()))\n",
    "m=sum((y[i])/x for i in range(x))\n",
    "s=sum((y[i]-m)**2/x for i in range(x))\n",
    "\n",
    "rt=math.sqrt(s)\n",
    "print(\"Standard Deviation is \"'{:03.1f}'.format(rt))"
   ]
  },
  {
   "cell_type": "markdown",
   "metadata": {},
   "source": [
    "## Weighted mean"
   ]
  },
  {
   "cell_type": "code",
   "execution_count": null,
   "metadata": {
    "collapsed": true
   },
   "outputs": [],
   "source": [
    "a= int(input())\n",
    "b=list(map(int,input().split()))\n",
    "c=list(map(int,input().split()))\n",
    "s=sum(b[g] * c[g] / sum(c) for g in range(a))\n",
    "print('{:03.1f}'.format(s))"
   ]
  },
  {
   "cell_type": "markdown",
   "metadata": {},
   "source": [
    "## Mean mode median"
   ]
  },
  {
   "cell_type": "code",
   "execution_count": null,
   "metadata": {
    "collapsed": true
   },
   "outputs": [],
   "source": [
    "import numpy as np\n",
    "from scipy import stats\n",
    "c=int(input())\n",
    "l=list(map(int,input().split()))\n",
    "mean=np.mean(l)\n",
    "median=np.median(l)\n",
    "mode=int(stats.mode(l)[0])\n",
    "print(mean)\n",
    "print(median)\n",
    "print(mode)"
   ]
  },
  {
   "cell_type": "markdown",
   "metadata": {},
   "source": [
    "## String formatting"
   ]
  },
  {
   "cell_type": "code",
   "execution_count": 13,
   "metadata": {},
   "outputs": [
    {
     "name": "stdout",
     "output_type": "stream",
     "text": [
      "     1      1      1      1\n",
      "     2      2      2     10\n",
      "     3      3      3     11\n",
      "     4      4      4    100\n",
      "     5      5      5    101\n",
      "     6      6      6    110\n",
      "     7      7      7    111\n",
      "     8     10      8   1000\n",
      "     9     11      9   1001\n",
      "    10     12      A   1010\n",
      "    11     13      B   1011\n",
      "    12     14      C   1100\n",
      "    13     15      D   1101\n",
      "    14     16      E   1110\n",
      "    15     17      F   1111\n",
      "    16     20     10  10000\n",
      "    17     21     11  10001\n",
      "    18     22     12  10010\n",
      "    19     23     13  10011\n",
      "    20     24     14  10100\n",
      "    21     25     15  10101\n",
      "    22     26     16  10110\n",
      "    23     27     17  10111\n",
      "    24     30     18  11000\n",
      "    25     31     19  11001\n",
      "    26     32     1A  11010\n",
      "    27     33     1B  11011\n",
      "    28     34     1C  11100\n",
      "    29     35     1D  11101\n",
      "    30     36     1E  11110\n",
      "    31     37     1F  11111\n",
      "    32     40     20 100000\n",
      "    33     41     21 100001\n",
      "    34     42     22 100010\n"
     ]
    }
   ],
   "source": [
    "def print_formatted(number):\n",
    "    N = number\n",
    "    width = len('{:b}'.format(N))\n",
    "\n",
    "\n",
    "    for i in range(1, N+1):\n",
    "        print(str.rjust(str(i), width),\\\n",
    "        str.rjust('{:o}'.format(i), width),\\\n",
    "        str.rjust('{:X}'.format(i), width),\\\n",
    "        str.rjust('{:b}'.format(i), width))\n",
    "\n",
    "print_formatted(34)"
   ]
  },
  {
   "cell_type": "markdown",
   "metadata": {},
   "source": [
    "## List comprehension"
   ]
  },
  {
   "cell_type": "code",
   "execution_count": 14,
   "metadata": {},
   "outputs": [
    {
     "name": "stdout",
     "output_type": "stream",
     "text": [
      "2\n",
      "3\n",
      "4\n",
      "5\n",
      "[[0, 0, 0], [0, 0, 1], [0, 0, 2], [0, 0, 3], [0, 0, 4], [0, 1, 0], [0, 1, 1], [0, 1, 2], [0, 1, 3], [0, 2, 0], [0, 2, 1], [0, 2, 2], [0, 2, 4], [0, 3, 0], [0, 3, 1], [0, 3, 3], [0, 3, 4], [1, 0, 0], [1, 0, 1], [1, 0, 2], [1, 0, 3], [1, 1, 0], [1, 1, 1], [1, 1, 2], [1, 1, 4], [1, 2, 0], [1, 2, 1], [1, 2, 3], [1, 2, 4], [1, 3, 0], [1, 3, 2], [1, 3, 3], [1, 3, 4], [2, 0, 0], [2, 0, 1], [2, 0, 2], [2, 0, 4], [2, 1, 0], [2, 1, 1], [2, 1, 3], [2, 1, 4], [2, 2, 0], [2, 2, 2], [2, 2, 3], [2, 2, 4], [2, 3, 1], [2, 3, 2], [2, 3, 3], [2, 3, 4]]\n"
     ]
    }
   ],
   "source": [
    "x = int(input())\n",
    "y = int(input())\n",
    "z = int(input())\n",
    "n = int(input())\n",
    "print ([ [ i, j, k] for i in range( x + 1) for j in range( y + 1) for k in range(z  + 1) if ( ( i + j + k ) != n )]) \n"
   ]
  },
  {
   "cell_type": "markdown",
   "metadata": {},
   "source": [
    "## Quantiles-q1 q2 q3"
   ]
  },
  {
   "cell_type": "code",
   "execution_count": 38,
   "metadata": {},
   "outputs": [
    {
     "name": "stdout",
     "output_type": "stream",
     "text": [
      "9\n",
      "3 7 8 5 12 14 21 13 18\n",
      "6\n",
      "12\n",
      "16\n"
     ]
    }
   ],
   "source": [
    "x=int(input())\n",
    "y=list(map(int,input().split()))\n",
    "y.sort()\n",
    "\n",
    "def median(a):\n",
    "    if len(a) % 2 == 0:\n",
    "        return (a[(len(a)//2)-1]+a[(len(a)//2)])/2\n",
    "    \n",
    "    else:\n",
    "        return(a[len(a)//2])\n",
    "    \n",
    "lh=y[0:len(y)//2]\n",
    "if x%2==0:\n",
    "    uh=y[len(y)//2:]\n",
    "    \n",
    "else:\n",
    "    uh=y[(len(y)//2)+1:]\n",
    "    \n",
    "print(int(median(lh)))\n",
    "print(int(median(y)))\n",
    "print(int(median(uh)))"
   ]
  },
  {
   "cell_type": "markdown",
   "metadata": {},
   "source": [
    "## interquartile range"
   ]
  },
  {
   "cell_type": "code",
   "execution_count": 54,
   "metadata": {},
   "outputs": [
    {
     "name": "stdout",
     "output_type": "stream",
     "text": [
      "3\n",
      "2 3 4\n",
      "4 3 2\n",
      "[2, 3, 4] [4, 3, 2]\n",
      "[2, 2, 2, 2, 3, 3, 3, 4, 4]\n",
      "2.0\n"
     ]
    }
   ],
   "source": [
    "x=int(input())\n",
    "k=list()\n",
    "y=list(map(int,input().split()))\n",
    "z=list(map(int,input().split()))\n",
    "print(y,z)\n",
    "for i in range(x):\n",
    "    k = k + [y[i]]*z[i]\n",
    "\n",
    "k.sort()\n",
    "print(k)\n",
    "\n",
    "def median(a):\n",
    "    if len(a) % 2 == 0:\n",
    "        return (a[(len(a)//2)-1]+a[(len(a)//2)])/2\n",
    "    \n",
    "    else:\n",
    "        return(a[len(a)//2])\n",
    "    \n",
    "lh=k[0:len(k)//2]\n",
    "if x%2==0:\n",
    "    uh=y[len(k)//2:]\n",
    "    \n",
    "else:\n",
    "    uh=k[(len(k)//2)+1:]\n",
    "    \n",
    "q1=median(lh)\n",
    "#print(int(median(y)))\n",
    "q3=median(uh)\n",
    "print(\"{0:0.1f}\".format(q3-q1))"
   ]
  },
  {
   "cell_type": "code",
   "execution_count": null,
   "metadata": {
    "collapsed": true
   },
   "outputs": [],
   "source": [
    "lst=[1 2 3 4 5]\n"
   ]
  },
  {
   "cell_type": "code",
   "execution_count": null,
   "metadata": {
    "collapsed": true
   },
   "outputs": [],
   "source": []
  },
  {
   "cell_type": "code",
   "execution_count": null,
   "metadata": {
    "collapsed": true
   },
   "outputs": [],
   "source": [
    "\n"
   ]
  }
 ],
 "metadata": {
  "kernelspec": {
   "display_name": "Python 3",
   "language": "python",
   "name": "python3"
  },
  "language_info": {
   "codemirror_mode": {
    "name": "ipython",
    "version": 3
   },
   "file_extension": ".py",
   "mimetype": "text/x-python",
   "name": "python",
   "nbconvert_exporter": "python",
   "pygments_lexer": "ipython3",
   "version": "3.6.3"
  }
 },
 "nbformat": 4,
 "nbformat_minor": 2
}
